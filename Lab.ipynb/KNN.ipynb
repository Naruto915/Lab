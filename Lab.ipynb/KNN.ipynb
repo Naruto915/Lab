{
 "cells": [
  {
   "cell_type": "code",
   "execution_count": 1,
   "metadata": {},
   "outputs": [
    {
     "name": "stdout",
     "output_type": "stream",
     "text": [
      "The value classified to unknown point is: 1\n",
      "The value classified to unknown point is: 0\n",
      "The value classified to unknown point is: 1\n"
     ]
    }
   ],
   "source": [
    "# KNN IMPLEMENTATION\n",
    "\n",
    "\n",
    "# Python3 program to find groups of unknown\n",
    "# Points using K nearest neighbour algorithm.\n",
    "\n",
    "import math\n",
    "\n",
    "def classifyAPoint(points,p,k=3):\n",
    "\t'''\n",
    "\tThis function finds the classification of p using\n",
    "\tk nearest neighbor algorithm. It assumes only two\n",
    "\tgroups and returns 0 if p belongs to group 0, else\n",
    "\t1 (belongs to group 1).\n",
    "\n",
    "\tParameters -\n",
    "\t\tpoints: Dictionary of training points having two keys - 0 and 1\n",
    "\t\t\t\tEach key have a list of training data points belong to that\n",
    "\n",
    "\t\tp : A tuple, test data point of the form (x,y)\n",
    "\n",
    "\t\tk : number of nearest neighbour to consider, default is 3\n",
    "\t'''\n",
    "\n",
    "\tdistance=[]\n",
    "\tfor group in points:\n",
    "\t\tfor feature in points[group]:\n",
    "\n",
    "\t\t\t#calculate the euclidean distance of p from training points\n",
    "\t\t\teuclidean_distance = math.sqrt((feature[0]-p[0])**2 +(feature[1]-p[1])**2)\n",
    "\n",
    "\t\t\t# Add a tuple of form (distance,group) in the distance list\n",
    "\t\t\tdistance.append((euclidean_distance,group))\n",
    "\n",
    "\t# sort the distance list in ascending order\n",
    "\t# and select first k distances\n",
    "\tdistance = sorted(distance)[:k]\n",
    "\n",
    "\tfreq0 = 0 #frequency of group 0\n",
    "\tfreq1 = 0 #frequency og group 1\n",
    "\n",
    "\tfor d in distance:\n",
    "\t\tif d[1] == 0:\n",
    "\t\t\tfreq0 += 1\n",
    "\t\telif d[1] == 1:\n",
    "\t\t\tfreq1 += 1\n",
    "\n",
    "\treturn 0 if freq0>freq1 else 1\n",
    "\n",
    "# driver function\n",
    "def main():\n",
    "\n",
    "\t# Dictionary of training points having two keys - 0 and 1\n",
    "\t# key 0 have points belong to class 0\n",
    "\t# key 1 have points belong to class 1\n",
    "\n",
    "\tpoints = {0:[(1,12),(2,5),(3,6),(3,10),(3.5,8),(2,11),(2,9),(1,7)],\n",
    "\t\t\t1:[(5,3),(3,2),(1.5,9),(7,2),(6,1),(3.8,1),(5.6,4),(4,2),(2,5)]}\n",
    "\n",
    "\t# testing point p(x,y)\n",
    "\n",
    "\tp = [(8,7), (2.5,5), (4.7, 1)]\n",
    "\n",
    "\t# Number of neighbours\n",
    "\tk = 3\n",
    "\n",
    "\tfor i in range(0, len(p)):\n",
    "\t\tprint(\"The value classified to unknown point is: {}\".\\\n",
    "\t\tformat(classifyAPoint(points,p[i],k)))\n",
    "\n",
    "if __name__ == '__main__':\n",
    "\tmain()"
   ]
  }
 ],
 "metadata": {
  "kernelspec": {
   "display_name": "Python 3.8.8 ('base')",
   "language": "python",
   "name": "python3"
  },
  "language_info": {
   "codemirror_mode": {
    "name": "ipython",
    "version": 3
   },
   "file_extension": ".py",
   "mimetype": "text/x-python",
   "name": "python",
   "nbconvert_exporter": "python",
   "pygments_lexer": "ipython3",
   "version": "3.8.8"
  },
  "orig_nbformat": 4,
  "vscode": {
   "interpreter": {
    "hash": "0cbdb2da9dbe0d2dea10ff6d0781d52b5c29396ff67f0b41141e479dd37f1da4"
   }
  }
 },
 "nbformat": 4,
 "nbformat_minor": 2
}
